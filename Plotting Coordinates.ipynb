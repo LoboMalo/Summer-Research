{
 "cells": [
  {
   "cell_type": "code",
   "execution_count": 1,
   "metadata": {
    "collapsed": true
   },
   "outputs": [],
   "source": [
    "from astropy import units as u"
   ]
  },
  {
   "cell_type": "code",
   "execution_count": 3,
   "metadata": {
    "collapsed": false
   },
   "outputs": [
    {
     "ename": "NameError",
     "evalue": "name 'SkyCoord' is not defined",
     "output_type": "error",
     "traceback": [
      "\u001b[0;31m---------------------------------------------------------------------------\u001b[0m",
      "\u001b[0;31mNameError\u001b[0m                                 Traceback (most recent call last)",
      "\u001b[0;32m<ipython-input-3-e798a7ac5f73>\u001b[0m in \u001b[0;36m<module>\u001b[0;34m()\u001b[0m\n\u001b[0;32m----> 1\u001b[0;31m \u001b[0mhelp\u001b[0m\u001b[0;34m(\u001b[0m\u001b[0mSkyCoord\u001b[0m\u001b[0;34m)\u001b[0m\u001b[0;34m\u001b[0m\u001b[0m\n\u001b[0m",
      "\u001b[0;31mNameError\u001b[0m: name 'SkyCoord' is not defined"
     ]
    }
   ],
   "source": [
    "help(SkyCoord)"
   ]
  },
  {
   "cell_type": "code",
   "execution_count": 4,
   "metadata": {
    "collapsed": true
   },
   "outputs": [],
   "source": [
    "from astropy.coordinates import SkyCoord"
   ]
  },
  {
   "cell_type": "code",
   "execution_count": 6,
   "metadata": {
    "collapsed": false
   },
   "outputs": [],
   "source": [
    "from astropy.coordinates import ICRS, Galactic , FK4, FK5"
   ]
  },
  {
   "cell_type": "code",
   "execution_count": 7,
   "metadata": {
    "collapsed": false
   },
   "outputs": [
    {
     "name": "stdout",
     "output_type": "stream",
     "text": [
      "Help on class SkyCoord in module astropy.coordinates.sky_coordinate:\n",
      "\n",
      "class SkyCoord(__builtin__.object)\n",
      " |  High-level object providing a flexible interface for celestial coordinate\n",
      " |  representation, manipulation, and transformation between systems.\n",
      " |  \n",
      " |  The `SkyCoord` class accepts a wide variety of inputs for initialization. At\n",
      " |  a minimum these must provide one or more celestial coordinate values with\n",
      " |  unambiguous units.  Inputs may be scalars or lists/tuples/arrays, yielding\n",
      " |  scalar or array coordinates (can be checked via ``SkyCoord.isscalar``).\n",
      " |  Typically one also specifies the coordinate frame, though this is not\n",
      " |  required. The general pattern for spherical representations is::\n",
      " |  \n",
      " |    SkyCoord(COORD, [FRAME], keyword_args ...)\n",
      " |    SkyCoord(LON, LAT, [FRAME], keyword_args ...)\n",
      " |    SkyCoord(LON, LAT, [DISTANCE], frame=FRAME, unit=UNIT, keyword_args ...)\n",
      " |    SkyCoord([FRAME], <lon_attr>=LON, <lat_attr>=LAT, keyword_args ...)\n",
      " |  \n",
      " |  It is also possible to input coordinate values in other representations\n",
      " |  such as cartesian or cylindrical.  In this case one includes the keyword\n",
      " |  argument ``representation='cartesian'`` (for example) along with data in\n",
      " |  ``x``, ``y``, and ``z``.\n",
      " |  \n",
      " |  Examples\n",
      " |  --------\n",
      " |  The examples below illustrate common ways of initializing a `SkyCoord`\n",
      " |  object.  For a complete description of the allowed syntax see the\n",
      " |  full coordinates documentation.  First some imports::\n",
      " |  \n",
      " |    >>> from astropy.coordinates import SkyCoord  # High-level coordinates\n",
      " |    >>> from astropy.coordinates import ICRS, Galactic, FK4, FK5  # Low-level frames\n",
      " |    >>> from astropy.coordinates import Angle, Latitude, Longitude  # Angles\n",
      " |    >>> import astropy.units as u\n",
      " |  \n",
      " |  The coordinate values and frame specification can now be provided using\n",
      " |  positional and keyword arguments::\n",
      " |  \n",
      " |    >>> c = SkyCoord(10, 20, unit=\"deg\")  # defaults to ICRS frame\n",
      " |    >>> c = SkyCoord([1, 2, 3], [-30, 45, 8], \"icrs\", unit=\"deg\")  # 3 coords\n",
      " |  \n",
      " |    >>> coords = [\"1:12:43.2 +1:12:43\", \"1 12 43.2 +1 12 43\"]\n",
      " |    >>> c = SkyCoord(coords, FK4, unit=(u.deg, u.hourangle), obstime=\"J1992.21\")\n",
      " |  \n",
      " |    >>> c = SkyCoord(\"1h12m43.2s +1d12m43s\", Galactic)  # Units from string\n",
      " |    >>> c = SkyCoord(\"galactic\", l=\"1h12m43.2s\", b=\"+1d12m43s\")\n",
      " |  \n",
      " |    >>> ra = Longitude([1, 2, 3], unit=u.deg)  # Could also use Angle\n",
      " |    >>> dec = np.array([4.5, 5.2, 6.3]) * u.deg  # Astropy Quantity\n",
      " |    >>> c = SkyCoord(ra, dec, frame='icrs')\n",
      " |    >>> c = SkyCoord(ICRS, ra=ra, dec=dec, obstime='2001-01-02T12:34:56')\n",
      " |  \n",
      " |    >>> c = FK4(1 * u.deg, 2 * u.deg)  # Uses defaults for obstime, equinox\n",
      " |    >>> c = SkyCoord(c, obstime='J2010.11', equinox='B1965')  # Override defaults\n",
      " |  \n",
      " |    >>> c = SkyCoord(w=0, u=1, v=2, unit='kpc', frame='galactic', representation='cartesian')\n",
      " |  \n",
      " |    >>> c = SkyCoord([ICRS(ra=1*u.deg, dec=2*u.deg), ICRS(ra=3*u.deg, dec=4*u.deg)])\n",
      " |  \n",
      " |  As shown, the frame can be a `~astropy.coordinates.BaseCoordinateFrame`\n",
      " |  class or the corresponding string alias.  The frame classes that are built in\n",
      " |  to astropy are `ICRS`, `FK5`, `FK4`, `FK4NoETerms`, and `Galactic`.\n",
      " |  The string aliases are simply lower-case versions of the class name, and\n",
      " |  allow for creating a `SkyCoord` object and transforming frames without\n",
      " |  explicitly importing the frame classes.\n",
      " |  \n",
      " |  Parameters\n",
      " |  ----------\n",
      " |  frame : `~astropy.coordinates.BaseCoordinateFrame` class or string, optional\n",
      " |      Type of coordinate frame this `SkyCoord` should represent. Defaults to\n",
      " |      to ICRS if not given or given as None.\n",
      " |  unit : `~astropy.units.Unit`, string, or tuple of :class:`~astropy.units.Unit` or str, optional\n",
      " |      Units for supplied ``LON`` and ``LAT`` values, respectively.  If\n",
      " |      only one unit is supplied then it applies to both ``LON`` and\n",
      " |      ``LAT``.\n",
      " |  obstime : valid `~astropy.time.Time` initializer, optional\n",
      " |      Time of observation\n",
      " |  equinox : valid `~astropy.time.Time` initializer, optional\n",
      " |      Coordinate frame equinox\n",
      " |  representation : str or Representation class\n",
      " |      Specifies the representation, e.g. 'spherical', 'cartesian', or\n",
      " |      'cylindrical'.  This affects the positional args and other keyword args\n",
      " |      which must correspond to the given representation.\n",
      " |  **keyword_args\n",
      " |      Other keyword arguments as applicable for user-defined coordinate frames.\n",
      " |      Common options include:\n",
      " |  \n",
      " |      ra, dec : valid `~astropy.coordinates.Angle` initializer, optional\n",
      " |          RA and Dec for frames where ``ra`` and ``dec`` are keys in the\n",
      " |          frame's ``representation_component_names``, including `ICRS`,\n",
      " |          `FK5`, `FK4`, and `FK4NoETerms`.\n",
      " |      l, b : valid `~astropy.coordinates.Angle` initializer, optional\n",
      " |          Galactic ``l`` and ``b`` for for frames where ``l`` and ``b`` are\n",
      " |          keys in the frame's ``representation_component_names``, including\n",
      " |          the `Galactic` frame.\n",
      " |      x, y, z : float or `~astropy.units.Quantity`, optional\n",
      " |          Cartesian coordinates values\n",
      " |      w, u, v : float or `~astropy.units.Quantity`, optional\n",
      " |          Cartesian coordinates values for the Galactic frame.\n",
      " |  \n",
      " |  Methods defined here:\n",
      " |  \n",
      " |  __bool__(self)\n",
      " |  \n",
      " |  __dir__(self)\n",
      " |      Override the builtin `dir` behavior to include:\n",
      " |      - Transforms available by aliases\n",
      " |      - Attribute / methods of the underlying self.frame object\n",
      " |  \n",
      " |  __getattr__(self, attr)\n",
      " |      Overrides getattr to return coordinates that this can be transformed\n",
      " |      to, based on the alias attr in the master transform graph.\n",
      " |  \n",
      " |  __getitem__(self, item)\n",
      " |  \n",
      " |  __init__(self, *args, **kwargs)\n",
      " |  \n",
      " |  __len__(self)\n",
      " |  \n",
      " |  __nonzero__(self)\n",
      " |  \n",
      " |  __repr__(self)\n",
      " |  \n",
      " |  __setattr__(self, attr, val)\n",
      " |  \n",
      " |  is_equivalent_frame(self, other)\n",
      " |      Checks if this object's frame as the same as that of the ``other``\n",
      " |      object.\n",
      " |      \n",
      " |      To be the same frame, two objects must be the same frame class and have\n",
      " |      the same frame attributes. For two `SkyCoord` objects, *all* of the\n",
      " |      frame attributes have to match, not just those relevant for the object's\n",
      " |      frame.\n",
      " |      \n",
      " |      Parameters\n",
      " |      ----------\n",
      " |      other : SkyCoord or BaseCoordinateFrame\n",
      " |          The other object to check.\n",
      " |      \n",
      " |      Returns\n",
      " |      -------\n",
      " |      isequiv : bool\n",
      " |          True if the frames are the same, False if not.\n",
      " |      \n",
      " |      Raises\n",
      " |      ------\n",
      " |      TypeError\n",
      " |          If ``other`` isn't a `SkyCoord` or a `BaseCoordinateFrame` or subclass.\n",
      " |  \n",
      " |  match_to_catalog_3d(self, catalogcoord, nthneighbor=1)\n",
      " |      Finds the nearest 3-dimensional matches of this coordinate to a set\n",
      " |      of catalog coordinates.\n",
      " |      \n",
      " |      This finds the 3-dimensional closest neighbor, which is only different\n",
      " |      from the on-sky distance if ``distance`` is set in this object or the\n",
      " |      ``catalogcoord`` object.\n",
      " |      \n",
      " |      For more on how to use this (and related) functionality, see the\n",
      " |      examples in :doc:`/coordinates/matchsep`.\n",
      " |      \n",
      " |      Parameters\n",
      " |      ----------\n",
      " |      catalogcoord : `~astropy.coordinates.SkyCoord` or `~astropy.coordinates.BaseCoordinateFrame`\n",
      " |          The base catalog in which to search for matches. Typically this\n",
      " |          will be a coordinate object that is an array (i.e.,\n",
      " |          ``catalogcoord.isscalar == False``)\n",
      " |      nthneighbor : int, optional\n",
      " |          Which closest neighbor to search for.  Typically ``1`` is\n",
      " |          desired here, as that is correct for matching one set of\n",
      " |          coordinates to another.  The next likely use case is\n",
      " |          ``2``, for matching a coordinate catalog against *itself*\n",
      " |          (``1`` is inappropriate because each point will find\n",
      " |          itself as the closest match).\n",
      " |      \n",
      " |      Returns\n",
      " |      -------\n",
      " |      idx : integer array\n",
      " |          Indices into ``catalogcoord`` to get the matched points for\n",
      " |          each of this object's coordinates. Shape matches this\n",
      " |          object.\n",
      " |      sep2d : `~astropy.coordinates.Angle`\n",
      " |          The on-sky separation between the closest match for each\n",
      " |          element in this object in ``catalogcoord``. Shape matches\n",
      " |          this object.\n",
      " |      dist3d : `~astropy.units.Quantity`\n",
      " |          The 3D distance between the closest match for each element\n",
      " |          in this object in ``catalogcoord``. Shape matches this\n",
      " |          object.\n",
      " |      \n",
      " |      Notes\n",
      " |      -----\n",
      " |      This method requires `SciPy <http://www.scipy.org>`_ to be\n",
      " |      installed or it will fail.\n",
      " |      \n",
      " |      See Also\n",
      " |      --------\n",
      " |      astropy.coordinates.match_coordinates_3d\n",
      " |      SkyCoord.match_to_catalog_sky\n",
      " |  \n",
      " |  match_to_catalog_sky(self, catalogcoord, nthneighbor=1)\n",
      " |      Finds the nearest on-sky matches of this coordinate in a set of\n",
      " |      catalog coordinates.\n",
      " |      \n",
      " |      For more on how to use this (and related) functionality, see the\n",
      " |      examples in :doc:`/coordinates/matchsep`.\n",
      " |      \n",
      " |      Parameters\n",
      " |      ----------\n",
      " |      catalogcoord : `~astropy.coordinates.SkyCoord` or `~astropy.coordinates.BaseCoordinateFrame`\n",
      " |          The base catalog in which to search for matches. Typically this\n",
      " |          will be a coordinate object that is an array (i.e.,\n",
      " |          ``catalogcoord.isscalar == False``)\n",
      " |      nthneighbor : int, optional\n",
      " |          Which closest neighbor to search for.  Typically ``1`` is\n",
      " |          desired here, as that is correct for matching one set of\n",
      " |          coordinates to another. The next likely use case is ``2``,\n",
      " |          for matching a coordinate catalog against *itself* (``1``\n",
      " |          is inappropriate because each point will find itself as the\n",
      " |          closest match).\n",
      " |      \n",
      " |      Returns\n",
      " |      -------\n",
      " |      idx : integer array\n",
      " |          Indices into ``catalogcoord`` to get the matched points for\n",
      " |          each of this object's coordinates. Shape matches this\n",
      " |          object.\n",
      " |      sep2d : `~astropy.coordinates.Angle`\n",
      " |          The on-sky separation between the closest match for each\n",
      " |          element in this object in ``catalogcoord``. Shape matches\n",
      " |          this object.\n",
      " |      dist3d : `~astropy.units.Quantity`\n",
      " |          The 3D distance between the closest match for each element\n",
      " |          in this object in ``catalogcoord``. Shape matches this\n",
      " |          object.\n",
      " |      \n",
      " |      Notes\n",
      " |      -----\n",
      " |      This method requires `SciPy <http://www.scipy.org>`_ to be\n",
      " |      installed or it will fail.\n",
      " |      \n",
      " |      See Also\n",
      " |      --------\n",
      " |      astropy.coordinates.match_coordinates_sky\n",
      " |      SkyCoord.match_to_catalog_3d\n",
      " |  \n",
      " |  position_angle(self, other)\n",
      " |      Computes the on-sky position angle (East of North) between this\n",
      " |      `SkyCoord` and another.\n",
      " |      \n",
      " |      Parameters\n",
      " |      ----------\n",
      " |      other : `SkyCoord`\n",
      " |          The other coordinate to compute the position angle to.  It is\n",
      " |          treated as the \"head\" of the vector of the position angle.\n",
      " |      \n",
      " |      Returns\n",
      " |      -------\n",
      " |      pa : `~astropy.coordinates.Angle`\n",
      " |          The (positive) position angle of the vector pointing from ``self``\n",
      " |          to ``other``.  If either ``self`` or ``other`` contain arrays, this\n",
      " |          will be an array following the appropriate `numpy` broadcasting\n",
      " |          rules.\n",
      " |      \n",
      " |      Examples\n",
      " |      --------\n",
      " |      \n",
      " |      >>> c1 = SkyCoord(0*u.deg, 0*u.deg)\n",
      " |      >>> c2 = SkyCoord(1*u.deg, 0*u.deg)\n",
      " |      >>> c1.position_angle(c2).degree\n",
      " |      90.0\n",
      " |      >>> c3 = SkyCoord(1*u.deg, 1*u.deg)\n",
      " |      >>> c1.position_angle(c3).degree  # doctest: +FLOAT_CMP\n",
      " |      44.995636455344844\n",
      " |  \n",
      " |  search_around_3d(self, searcharoundcoords, distlimit)\n",
      " |      Searches for all coordinates in this object around a supplied set of\n",
      " |      points within a given 3D radius.\n",
      " |      \n",
      " |      This is inteded for use on `~astropy.coordinates.SkyCoord` objects\n",
      " |      with coordinate arrays, rather than a scalar coordinate.  For a scalar\n",
      " |      coordinate, it is better to use\n",
      " |      `~astropy.coordinates.SkyCoord.separation_3d`.\n",
      " |      \n",
      " |      For more on how to use this (and related) functionality, see the\n",
      " |      examples in :doc:`/coordinates/matchsep`.\n",
      " |      \n",
      " |      Parameters\n",
      " |      ----------\n",
      " |      searcharoundcoords : `~astropy.coordinates.SkyCoord` or `~astropy.coordinates.BaseCoordinateFrame`\n",
      " |          The coordinates to search around to try to find matching points in\n",
      " |          this `SkyCoord`. This should be an object with array coordinates,\n",
      " |          not a scalar coordinate object.\n",
      " |      distlimit : `~astropy.units.Quantity` with distance units\n",
      " |          The physical radius to search within.\n",
      " |      \n",
      " |      Returns\n",
      " |      -------\n",
      " |      idxsearcharound : integer array\n",
      " |          Indices into ``self`` that matches to the corresponding element of\n",
      " |          ``idxself``. Shape matches ``idxself``.\n",
      " |      idxself : integer array\n",
      " |          Indices into ``searcharoundcoords`` that matches to the\n",
      " |          corresponding element of ``idxsearcharound``. Shape matches\n",
      " |          ``idxsearcharound``.\n",
      " |      sep2d : `~astropy.coordinates.Angle`\n",
      " |          The on-sky separation between the coordinates. Shape matches\n",
      " |          ``idxsearcharound`` and ``idxself``.\n",
      " |      dist3d : `~astropy.units.Quantity`\n",
      " |          The 3D distance between the coordinates. Shape matches\n",
      " |          ``idxsearcharound`` and ``idxself``.\n",
      " |      \n",
      " |      Notes\n",
      " |      -----\n",
      " |      This method requires `SciPy <http://www.scipy.org>`_ (>=0.12.0) to be\n",
      " |      installed or it will fail.\n",
      " |      \n",
      " |      In the current implementation, the return values are always sorted in\n",
      " |      the same order as the ``searcharoundcoords`` (so ``idxsearcharound`` is\n",
      " |      in ascending order).  This is considered an implementation detail,\n",
      " |      though, so it could change in a future release.\n",
      " |      \n",
      " |      See Also\n",
      " |      --------\n",
      " |      astropy.coordinates.search_around_3d\n",
      " |      SkyCoord.search_around_sky\n",
      " |  \n",
      " |  search_around_sky(self, searcharoundcoords, seplimit)\n",
      " |      Searches for all coordinates in this object around a supplied set of\n",
      " |      points within a given on-sky separation.\n",
      " |      \n",
      " |      This is inteded for use on `~astropy.coordinates.SkyCoord` objects\n",
      " |      with coordinate arrays, rather than a scalar coordinate.  For a scalar\n",
      " |      coordinate, it is better to use\n",
      " |      `~astropy.coordinates.SkyCoord.separation`.\n",
      " |      \n",
      " |      For more on how to use this (and related) functionality, see the\n",
      " |      examples in :doc:`/coordinates/matchsep`.\n",
      " |      \n",
      " |      Parameters\n",
      " |      ----------\n",
      " |      searcharoundcoords : `~astropy.coordinates.SkyCoord` or `~astropy.coordinates.BaseCoordinateFrame`\n",
      " |          The coordinates to search around to try to find matching points in\n",
      " |          this `SkyCoord`. This should be an object with array coordinates,\n",
      " |          not a scalar coordinate object.\n",
      " |      seplimit : `~astropy.units.Quantity` with angle units\n",
      " |          The on-sky separation to search within.\n",
      " |      \n",
      " |      Returns\n",
      " |      -------\n",
      " |      idxsearcharound : integer array\n",
      " |          Indices into ``self`` that matches to the corresponding element of\n",
      " |          ``idxself``. Shape matches ``idxself``.\n",
      " |      idxself : integer array\n",
      " |          Indices into ``searcharoundcoords`` that matches to the\n",
      " |          corresponding element of ``idxsearcharound``. Shape matches\n",
      " |          ``idxsearcharound``.\n",
      " |      sep2d : `~astropy.coordinates.Angle`\n",
      " |          The on-sky separation between the coordinates. Shape matches\n",
      " |          ``idxsearcharound`` and ``idxself``.\n",
      " |      dist3d : `~astropy.units.Quantity`\n",
      " |          The 3D distance between the coordinates. Shape matches\n",
      " |          ``idxsearcharound`` and ``idxself``.\n",
      " |      \n",
      " |      Notes\n",
      " |      -----\n",
      " |      This method requires `SciPy <http://www.scipy.org>`_ (>=0.12.0) to be\n",
      " |      installed or it will fail.\n",
      " |      \n",
      " |      In the current implementation, the return values are always sorted in\n",
      " |      the same order as the ``searcharoundcoords`` (so ``idxsearcharound`` is\n",
      " |      in ascending order).  This is considered an implementation detail,\n",
      " |      though, so it could change in a future release.\n",
      " |      \n",
      " |      See Also\n",
      " |      --------\n",
      " |      astropy.coordinates.search_around_sky\n",
      " |      SkyCoord.search_around_3d\n",
      " |  \n",
      " |  separation(self, other)\n",
      " |      Computes on-sky separation between this coordinate and another.\n",
      " |      \n",
      " |      For more on how to use this (and related) functionality, see the\n",
      " |      examples in :doc:`/coordinates/matchsep`.\n",
      " |      \n",
      " |      Parameters\n",
      " |      ----------\n",
      " |      other : `~astropy.coordinates.SkyCoord` or `~astropy.coordinates.BaseCoordinateFrame`\n",
      " |          The coordinate to get the separation to.\n",
      " |      \n",
      " |      Returns\n",
      " |      -------\n",
      " |      sep : `~astropy.coordinates.Angle`\n",
      " |          The on-sky separation between this and the ``other`` coordinate.\n",
      " |      \n",
      " |      Notes\n",
      " |      -----\n",
      " |      The separation is calculated using the Vincenty formula, which\n",
      " |      is stable at all locations, including poles and antipodes [1]_.\n",
      " |      \n",
      " |      .. [1] http://en.wikipedia.org/wiki/Great-circle_distance\n",
      " |  \n",
      " |  separation_3d(self, other)\n",
      " |      Computes three dimensional separation between this coordinate\n",
      " |      and another.\n",
      " |      \n",
      " |      For more on how to use this (and related) functionality, see the\n",
      " |      examples in :doc:`/coordinates/matchsep`.\n",
      " |      \n",
      " |      Parameters\n",
      " |      ----------\n",
      " |      other : `~astropy.coordinates.SkyCoord` or `~astropy.coordinates.BaseCoordinateFrame`\n",
      " |          The coordinate to get the separation to.\n",
      " |      \n",
      " |      Returns\n",
      " |      -------\n",
      " |      sep : `~astropy.coordinates.Distance`\n",
      " |          The real-space distance between these two coordinates.\n",
      " |      \n",
      " |      Raises\n",
      " |      ------\n",
      " |      ValueError\n",
      " |          If this or the other coordinate do not have distances.\n",
      " |  \n",
      " |  to_pixel(self, wcs, origin=0, mode=u'all')\n",
      " |      Convert this coordinate to pixel coordinates using a `~astropy.wcs.WCS`\n",
      " |      object.\n",
      " |      \n",
      " |      Parameters\n",
      " |      ----------\n",
      " |      wcs : `~astropy.wcs.WCS`\n",
      " |          The WCS to use for convert\n",
      " |      origin : int\n",
      " |          Whether to return 0 or 1-based pixel coordinates.\n",
      " |      mode : 'all' or 'wcs'\n",
      " |          Whether to do the transformation including distortions (``'all'``) or\n",
      " |          only including only the core WCS transformation (``'wcs'``).\n",
      " |      \n",
      " |      Returns\n",
      " |      -------\n",
      " |      xp, yp : `numpy.ndarray`\n",
      " |          The pixel coordinates\n",
      " |      \n",
      " |      See Also\n",
      " |      --------\n",
      " |      from_pixel : to do the inverse operation\n",
      " |      astropy.wcs.utils.skycoord_to_pixel : the implementation of this method\n",
      " |  \n",
      " |  to_string(self, style=u'decimal', **kwargs)\n",
      " |      A string representation of the coordinates.\n",
      " |      \n",
      " |      The default styles definitions are::\n",
      " |      \n",
      " |        'decimal': 'lat': {'decimal': True, 'unit': \"deg\"}\n",
      " |                   'lon': {'decimal': True, 'unit': \"deg\"}\n",
      " |        'dms': 'lat': {'unit': \"deg\"}\n",
      " |               'lon': {'unit': \"deg\"}\n",
      " |        'hmsdms': 'lat': {'alwayssign': True, 'pad': True, 'unit': \"deg\"}\n",
      " |                  'lon': {'pad': True, 'unit': \"hour\"}\n",
      " |      \n",
      " |      See :meth:`~astropy.coordinates.Angle.to_string` for details and\n",
      " |      keyword arguments (the two angles forming the coordinates are are\n",
      " |      both :class:`~astropy.coordinates.Angle` instances). Keyword\n",
      " |      arguments have precedence over the style defaults and are passed\n",
      " |      to :meth:`~astropy.coordinates.Angle.to_string`.\n",
      " |      \n",
      " |      Parameters\n",
      " |      ----------\n",
      " |      style : {'hmsdms', 'dms', 'decimal'}\n",
      " |          The formatting specification to use. These encode the three most\n",
      " |          common ways to represent coordinates. The default is `decimal`.\n",
      " |      kwargs\n",
      " |          Keyword args passed to :meth:`~astropy.coordinates.Angle.to_string`.\n",
      " |  \n",
      " |  transform_to(self, frame)\n",
      " |      Transform this coordinate to a new frame.\n",
      " |      \n",
      " |      The frame attributes (e.g. equinox or obstime) for the returned object\n",
      " |      depend on the corresponding attributes of SkyCoord object and the\n",
      " |      supplied ``frame``, with the following precedence:\n",
      " |      \n",
      " |      1. Non-default value in the supplied frame\n",
      " |      2. Non-default value in the SkyCoord instance\n",
      " |      3. Default value in the supplied frame\n",
      " |      \n",
      " |      Parameters\n",
      " |      ----------\n",
      " |      frame : str or `BaseCoordinateFrame` class / instance or `SkyCoord` instance\n",
      " |          The frame to transform this coordinate into.\n",
      " |      \n",
      " |      Returns\n",
      " |      -------\n",
      " |      coord : `SkyCoord`\n",
      " |          A new object with this coordinate represented in the `frame` frame.\n",
      " |      \n",
      " |      Raises\n",
      " |      ------\n",
      " |      ValueError\n",
      " |          If there is no possible transformation route.\n",
      " |  \n",
      " |  ----------------------------------------------------------------------\n",
      " |  Class methods defined here:\n",
      " |  \n",
      " |  from_name(cls, name, frame=u'icrs') from __builtin__.type\n",
      " |      Given a name, query the CDS name resolver to attempt to retrieve\n",
      " |      coordinate information for that object. The search database, sesame\n",
      " |      url, and  query timeout can be set through configuration items in\n",
      " |      ``astropy.coordinates.name_resolve`` -- see docstring for\n",
      " |      `~astropy.coordinates.get_icrs_coordinates` for more\n",
      " |      information.\n",
      " |      \n",
      " |      Parameters\n",
      " |      ----------\n",
      " |      name : str\n",
      " |          The name of the object to get coordinates for, e.g. ``'M42'``.\n",
      " |      frame : str or `BaseCoordinateFrame` class or instance\n",
      " |          The frame to transform the object to.\n",
      " |      \n",
      " |      Returns\n",
      " |      -------\n",
      " |      coord : SkyCoord\n",
      " |          Instance of the SkyCoord class.\n",
      " |  \n",
      " |  from_pixel(cls, xp, yp, wcs, origin=0, mode=u'all') from __builtin__.type\n",
      " |      Create a new `SkyCoord` from pixel coordinates using an\n",
      " |      `~astropy.wcs.WCS` object.\n",
      " |      \n",
      " |      Parameters\n",
      " |      ----------\n",
      " |      xp, yp : float or `numpy.ndarray`\n",
      " |          The coordinates to convert.\n",
      " |      wcs : `~astropy.wcs.WCS`\n",
      " |          The WCS to use for convert\n",
      " |      origin : int\n",
      " |          Whether to return 0 or 1-based pixel coordinates.\n",
      " |      mode : 'all' or 'wcs'\n",
      " |          Whether to do the transformation including distortions (``'all'``) or\n",
      " |          only including only the core WCS transformation (``'wcs'``).\n",
      " |      \n",
      " |      Returns\n",
      " |      -------\n",
      " |      coord : an instance of this class\n",
      " |          A new object with sky coordinates corresponding to the input ``xp``\n",
      " |          and ``yp``.\n",
      " |      \n",
      " |      See Also\n",
      " |      --------\n",
      " |      to_pixel : to do the inverse operation\n",
      " |      astropy.wcs.utils.pixel_to_skycoord : the implementation of this method\n",
      " |  \n",
      " |  guess_from_table(cls, table, **coord_kwargs) from __builtin__.type\n",
      " |      A convenience method to create and return a new `SkyCoord` from the data\n",
      " |      in an astropy Table.\n",
      " |      \n",
      " |      This method matches table columns that start with the case-insensitive\n",
      " |      names of the the components of the requested frames, if they are also\n",
      " |      followed by a non-alphanumeric character. It will also match columns\n",
      " |      that *end* with the component name if a non-alphanumeric character is\n",
      " |      *before* it.\n",
      " |      \n",
      " |      For example, the first rule means columns with names like\n",
      " |      ``'RA[J2000]'`` or ``'ra'`` will be interpreted as ``ra`` attributes for\n",
      " |      `~astropy.coordinates.ICRS` frames, but ``'RAJ2000'`` or ``'radius'``\n",
      " |      are *not*. Similarly, the second rule applied to the\n",
      " |      `~astropy.coordinates.Galactic` frame means that a column named\n",
      " |      ``'gal_l'`` will be used as the the ``l`` component, but ``gall`` or\n",
      " |      ``'fill'`` will not.\n",
      " |      \n",
      " |      The definition of alphanumeric here is based on Unicode's definition\n",
      " |      of alphanumeric, except without ``_`` (which is normally considered\n",
      " |      alphanumeric).  So for ASCII, this means the non-alphanumeric characters\n",
      " |      are ``<space>_!\"#$%&'()*+,-./:;<=>?@[\\]^`{|}~``).\n",
      " |      \n",
      " |      Parameters\n",
      " |      ----------\n",
      " |      table : astropy.Table\n",
      " |          The table to load data from.\n",
      " |      coord_kwargs\n",
      " |          Any additional keyword arguments are passed directly to this class's\n",
      " |          constructor.\n",
      " |      \n",
      " |      Returns\n",
      " |      -------\n",
      " |      newsc : same as this class\n",
      " |          The new `SkyCoord` (or subclass) object.\n",
      " |  \n",
      " |  ----------------------------------------------------------------------\n",
      " |  Data descriptors defined here:\n",
      " |  \n",
      " |  __dict__\n",
      " |      dictionary for instance variables (if defined)\n",
      " |  \n",
      " |  __weakref__\n",
      " |      list of weak references to the object (if defined)\n",
      " |  \n",
      " |  frame\n",
      " |  \n",
      " |  representation\n",
      "\n"
     ]
    }
   ],
   "source": [
    "help(SkyCoord)"
   ]
  },
  {
   "cell_type": "code",
   "execution_count": 13,
   "metadata": {
    "collapsed": false
   },
   "outputs": [],
   "source": [
    "c = SkyCoord(31.42, 10.76, frame='icrs', unit='deg')"
   ]
  },
  {
   "cell_type": "code",
   "execution_count": 14,
   "metadata": {
    "collapsed": true
   },
   "outputs": [],
   "source": [
    "import numpy as np"
   ]
  },
  {
   "cell_type": "code",
   "execution_count": 16,
   "metadata": {
    "collapsed": false
   },
   "outputs": [],
   "source": [
    "import matplotlib as mpl"
   ]
  },
  {
   "cell_type": "code",
   "execution_count": 26,
   "metadata": {
    "collapsed": false
   },
   "outputs": [
    {
     "data": {
      "text/plain": [
       "<SkyCoord (Galactic): (l, b) in deg\n",
       "    (150.82318558, -48.05045674)>"
      ]
     },
     "execution_count": 26,
     "metadata": {},
     "output_type": "execute_result"
    }
   ],
   "source": [
    "c.galactic"
   ]
  },
  {
   "cell_type": "code",
   "execution_count": 24,
   "metadata": {
    "collapsed": true
   },
   "outputs": [],
   "source": [
    "c_irs = c"
   ]
  },
  {
   "cell_type": "code",
   "execution_count": 25,
   "metadata": {
    "collapsed": false
   },
   "outputs": [
    {
     "data": {
      "text/plain": [
       "<SkyCoord (Galactic): (l, b) in deg\n",
       "    (150.82318558, -48.05045674)>"
      ]
     },
     "execution_count": 25,
     "metadata": {},
     "output_type": "execute_result"
    }
   ],
   "source": [
    "c_irs.galactic"
   ]
  },
  {
   "cell_type": "code",
   "execution_count": 37,
   "metadata": {
    "collapsed": true
   },
   "outputs": [],
   "source": [
    "def conversions(x,y):\n",
    "    \n",
    "    return SkyCoord(x, y, frame='icrs', unit='deg').galactic\n",
    "    \n",
    "    "
   ]
  },
  {
   "cell_type": "code",
   "execution_count": 33,
   "metadata": {
    "collapsed": false
   },
   "outputs": [
    {
     "name": "stdout",
     "output_type": "stream",
     "text": [
      "<SkyCoord (Galactic): (l, b) in deg\n",
      "    (129.86916869, -29.88671971)>\n"
     ]
    }
   ],
   "source": [
    "conversions(20,32.6)"
   ]
  },
  {
   "cell_type": "code",
   "execution_count": 38,
   "metadata": {
    "collapsed": false
   },
   "outputs": [],
   "source": [
    "a = conversions(36.2,22)"
   ]
  },
  {
   "cell_type": "code",
   "execution_count": 39,
   "metadata": {
    "collapsed": false
   },
   "outputs": [
    {
     "data": {
      "text/plain": [
       "<SkyCoord (Galactic): (l, b) in deg\n",
       "    (149.9119351, -35.93311025)>"
      ]
     },
     "execution_count": 39,
     "metadata": {},
     "output_type": "execute_result"
    }
   ],
   "source": []
  },
  {
   "cell_type": "code",
   "execution_count": 40,
   "metadata": {
    "collapsed": true
   },
   "outputs": [],
   "source": [
    "import numpy as np"
   ]
  },
  {
   "cell_type": "code",
   "execution_count": 41,
   "metadata": {
    "collapsed": false
   },
   "outputs": [],
   "source": [
    "%config InlineBackend.rc = {}"
   ]
  },
  {
   "cell_type": "code",
   "execution_count": 42,
   "metadata": {
    "collapsed": true
   },
   "outputs": [],
   "source": [
    "import matplotlib"
   ]
  },
  {
   "cell_type": "code",
   "execution_count": 43,
   "metadata": {
    "collapsed": true
   },
   "outputs": [],
   "source": [
    "import matplotlib.pyplot as plt"
   ]
  },
  {
   "cell_type": "code",
   "execution_count": 44,
   "metadata": {
    "collapsed": true
   },
   "outputs": [],
   "source": [
    "%matplotlib inline"
   ]
  },
  {
   "cell_type": "code",
   "execution_count": 59,
   "metadata": {
    "collapsed": false
   },
   "outputs": [],
   "source": [
    "ra_rad = c.ra.wrap_at(180 *u.deg).radian"
   ]
  },
  {
   "cell_type": "code",
   "execution_count": 60,
   "metadata": {
    "collapsed": true
   },
   "outputs": [],
   "source": [
    "dec_rad = c.dec.radian"
   ]
  },
  {
   "cell_type": "code",
   "execution_count": 62,
   "metadata": {
    "collapsed": false
   },
   "outputs": [
    {
     "data": {
      "image/png": "[encoded data removed]",
      "text/plain": [
       "<matplotlib.figure.Figure at 0x107cb62d0>"
      ]
     },
     "metadata": {},
     "output_type": "display_data"
    }
   ],
   "source": [
    "fig = plt.figure(figsize=(8,6))\n",
    "ax = fig.add_subplot(111, projection=\"mollweide\")\n",
    "ax.scatter(ra_rad, dec_rad)\n",
    "plt.grid(True)"
   ]
  },
  {
   "cell_type": "code",
   "execution_count": null,
   "metadata": {
    "collapsed": true
   },
   "outputs": [],
   "source": []
  },
  {
   "cell_type": "code",
   "execution_count": null,
   "metadata": {
    "collapsed": true
   },
   "outputs": [],
   "source": []
  }
 ],
 "metadata": {
  "kernelspec": {
   "display_name": "Python 2",
   "language": "python",
   "name": "python2"
  },
  "language_info": {
   "codemirror_mode": {
    "name": "ipython",
    "version": 2
   },
   "file_extension": ".py",
   "mimetype": "text/x-python",
   "name": "python",
   "nbconvert_exporter": "python",
   "pygments_lexer": "ipython2",
   "version": "2.7.9"
  }
 },
 "nbformat": 4,
 "nbformat_minor": 0
}
